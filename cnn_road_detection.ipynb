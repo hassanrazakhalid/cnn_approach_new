{
 "cells": [
  {
   "cell_type": "code",
   "execution_count": 242,
   "metadata": {},
   "outputs": [],
   "source": [
    "from keras.optimizers import Adam\n",
    "from keras.models import Sequential\n",
    "from keras.utils import Sequence, to_categorical\n",
    "from keras.layers import Dense, Conv2D, Flatten, MaxPooling2D, Flatten, Dropout\n",
    "from sklearn.model_selection import train_test_split\n",
    "import numpy as np\n",
    "import argparse\n",
    "import locale\n",
    "import os\n",
    "import cv2\n",
    "import matplotlib.pyplot as plt\n",
    "import tensorflow"
   ]
  },
  {
   "cell_type": "code",
   "execution_count": 211,
   "metadata": {},
   "outputs": [
    {
     "name": "stdout",
     "output_type": "stream",
     "text": [
      "Name: tensorflow\n",
      "Version: 1.14.0\n",
      "Summary: TensorFlow is an open source machine learning framework for everyone.\n",
      "Home-page: https://www.tensorflow.org/\n",
      "Author: Google Inc.\n",
      "Author-email: packages@tensorflow.org\n",
      "License: Apache 2.0\n",
      "Location: /Volumes/Misc/conda/miniconda3/envs/opencv_lab/lib/python3.7/site-packages\n",
      "Requires: absl-py, wrapt, gast, protobuf, tensorflow-estimator, keras-preprocessing, six, wheel, numpy, tensorboard, astor, termcolor, keras-applications, grpcio, google-pasta\n",
      "Required-by: \n",
      "Name: Keras\n",
      "Version: 2.2.5\n",
      "Summary: Deep Learning for humans\n",
      "Home-page: https://github.com/keras-team/keras\n",
      "Author: Francois Chollet\n",
      "Author-email: francois.chollet@gmail.com\n",
      "License: MIT\n",
      "Location: /Volumes/Misc/conda/miniconda3/envs/opencv_lab/lib/python3.7/site-packages\n",
      "Requires: pyyaml, numpy, keras-applications, h5py, scipy, six, keras-preprocessing\n",
      "Required-by: \n"
     ]
    }
   ],
   "source": [
    "!pip show tensorflow\n",
    "!pip show keras"
   ]
  },
  {
   "cell_type": "code",
   "execution_count": 290,
   "metadata": {},
   "outputs": [],
   "source": [
    "width, height = 240, 200\n",
    "input_shape = (width, height, 1)\n",
    "DATA_DIR = \"data\"\n",
    "    # Parameters"
   ]
  },
  {
   "cell_type": "code",
   "execution_count": 327,
   "metadata": {},
   "outputs": [
    {
     "name": "stdout",
     "output_type": "stream",
     "text": [
      "2767\n"
     ]
    }
   ],
   "source": [
    "def get_image_n_labels(paths):\n",
    "    total_images = []\n",
    "    total_labels = []\n",
    "    for path in paths:\n",
    "        \n",
    "        all_names = os.listdir(os.path.join(path, \"images\"))\n",
    "        all_names = sorted(all_names, key=lambda f: int(f.split('_')[1]))\n",
    "        labels = None\n",
    "        # print(all_names)\n",
    "        with open(os.path.join(path,\"labels\",\"labels.txt\")) as f:\n",
    "            labels = f.read().split('\\n')\n",
    "        assert len(labels) == len(all_names), str(len(labels)) + \"!=\" + str(len(all_names))\n",
    "#         print(f'Total count ', len(all_names))\n",
    "        \n",
    "        all_images = read_all_images(all_names)\n",
    "#         if total_images is None:\n",
    "#             total_images = all_images\n",
    "#         else:\n",
    "#             total_images = total_images +  all_images\n",
    "        total_images = [*total_images, *all_images]\n",
    "        labels = to_categorical(labels).astype(np.uint8)\n",
    "#         if total_labels is None:\n",
    "#             total_labels = labels\n",
    "#         else:\n",
    "#             total_labels = total_labels + labels\n",
    "        total_labels = [*total_labels, *labels]\n",
    "    return np.array(total_images), np.array(total_labels)\n",
    "\n",
    "def read_image(image_path):\n",
    "    img_gray = cv2.imread(image_path, cv2.IMREAD_GRAYSCALE)\n",
    "#     img_gray = cv2.imread(image_path)\n",
    "    if img_gray is None:\n",
    "        raise Exception(\"Image not found at\", image_path)\n",
    "    img_gray = cv2.resize(img_gray, (width, height))\n",
    "    img_gray = img_gray//255\n",
    "    img_gray.shape = (width, height, 1)\n",
    "    return img_gray\n",
    "def read_all_images(all_names):\n",
    "    result = []\n",
    "    for file_name in all_names:\n",
    "        result.append(read_image(os.path.join(training_path, file_name)))\n",
    "    return result\n",
    "train_X, train_Y = get_image_n_labels([os.path.join(DATA_DIR, \"u_turn_data\"), os.path.join(DATA_DIR, \"way_back\")])\n",
    "# train_Y = results = list(map(float, labels))\n",
    "# train_Y = to_categorical(labels)\n",
    "assert len(train_X) == len(train_Y), \"trainX != train Y\"\n",
    "print(len(train_X))"
   ]
  },
  {
   "cell_type": "code",
   "execution_count": 320,
   "metadata": {},
   "outputs": [
    {
     "name": "stdout",
     "output_type": "stream",
     "text": [
      "uint8\n"
     ]
    }
   ],
   "source": [
    "print(train_Y[0].dtype)"
   ]
  },
  {
   "cell_type": "code",
   "execution_count": 71,
   "metadata": {},
   "outputs": [
    {
     "name": "stdout",
     "output_type": "stream",
     "text": [
      "Total count  337\n"
     ]
    }
   ],
   "source": [
    "'Generates data for Keras'\n",
    "class DataGenerator(Sequence):\n",
    "    def __init__(self, list_IDs, labels, batch_size=32, dim=(32,32,32), n_channels=1, shuffle=True, root_path=None):\n",
    "        'Initialization'\n",
    "        self.dim = dim\n",
    "        self.batch_size = batch_size\n",
    "        self.labels = labels\n",
    "        self.list_IDs = list_IDs\n",
    "        self.n_channels = n_channels\n",
    "        self.shuffle = shuffle\n",
    "        self.root_path = root_path\n",
    "        self.on_epoch_end()\n",
    "\n",
    "    def __len__(self):\n",
    "        'Denotes the number of batches per epoch'\n",
    "        return int(np.floor(len(self.list_IDs) / self.batch_size))\n",
    "\n",
    "    def __getitem__(self, index):\n",
    "        'Generate one batch of data'\n",
    "        # Generate indexes of the batch\n",
    "        indexes = self.indexes[index*self.batch_size:(index+1)*self.batch_size]\n",
    "\n",
    "        # Find list of IDs\n",
    "        list_IDs_temp = [self.list_IDs[k] for k in indexes]\n",
    "\n",
    "        # Generate data\n",
    "        X, y = self.__data_generation(list_IDs_temp)\n",
    "\n",
    "        return X, y\n",
    "\n",
    "    def on_epoch_end(self):\n",
    "        'Updates indexes after each epoch'\n",
    "        self.indexes = np.arange(len(self.list_IDs))\n",
    "        if self.shuffle == True:\n",
    "            np.random.shuffle(self.indexes)\n",
    "\n",
    "    def __data_generation(self, list_IDs_temp):\n",
    "        'Generates data containing batch_size samples' # X : (n_samples, *dim, n_channels)\n",
    "        # Initialization\n",
    "        X = np.empty((self.batch_size, *self.dim))\n",
    "        y = np.empty((self.batch_size), dtype=int)\n",
    "        \n",
    "        width, height = 120, 100\n",
    "        # Generate data\n",
    "        for i, file_name in enumerate(list_IDs_temp):\n",
    "            # Store sample\n",
    "            img_gray = cv2.imread(os.path.join(self.root_path, file_name), cv2.IMREAD_GRAYSCALE)\n",
    "            print(img_gray.shape)\n",
    "            img_gray = cv2.resize(img_gray, (width, height))\n",
    "            img_gray.shape = (width, height, 1)\n",
    "            X[i,] = img_gray\n",
    "            # Store class\n",
    "            print(i)\n",
    "            y[i] = self.labels[i]\n",
    "        return X, y\n",
    "params = {'dim': input_shape,\n",
    "          'batch_size': 4,\n",
    "          'n_channels': 1,\n",
    "          'shuffle': False}\n",
    "training_generator = DataGenerator(all_names, labels, **params, root_path=training_path)"
   ]
  },
  {
   "cell_type": "code",
   "execution_count": null,
   "metadata": {},
   "outputs": [],
   "source": [
    "def load_house_images(df, inputPath):\n",
    "    # initialize our images array (i.e., the house images themselves)\n",
    "    images = []\n",
    " \n",
    "    # loop over the indexes of the houses\n",
    "    for i in df.index.values:\n",
    "        # find the four images for the house and sort the file paths,\n",
    "        # ensuring the four are always in the *same order*\n",
    "        basePath = os.path.sep.join([inputPath, \"{}_*\".format(i + 1)])\n",
    "        housePaths = sorted(list(glob.glob(basePath)))"
   ]
  },
  {
   "cell_type": "code",
   "execution_count": null,
   "metadata": {},
   "outputs": [],
   "source": [
    "\n",
    "model = Sequential()\n",
    "model.add(Conv2D(16, (3, 3), padding=\"same\", activation=\"relu\", input_shape=input_shape))\n",
    "model.add(MaxPooling2D(pool_size=(2,2)))\n",
    "\n",
    "model.add(Conv2D(32, (3, 3), padding=\"same\", activation=\"relu\"))\n",
    "model.add(MaxPooling2D(pool_size=(2,2)))\n",
    "\n",
    "model.add(Conv2D(64, (3, 3), padding=\"same\", activation=\"relu\"))\n",
    "\n",
    "model.add(Flatten())\n",
    "# model.add(Dropout(0.5))\n",
    "# model.add(Dense(1, activation=\"linear\"))\n",
    "model.add(BatchNormalization())\n",
    "model.add(Dense(64, activation=\"tanh\"))\n",
    "model.add(Dense(64, activation=\"tanh\"))\n",
    "model.add(Dense(3, activation=\"softmax\"))\n",
    "\n",
    "opt = Adam(lr=1e-3, decay=1e-3 / 200)\n",
    "# model.compile(loss=\"mean_absolute_percentage_error\", optimizer = opt)\n",
    "# model.compile(loss=\"categorical_crossentropy\", optimizer = opt)\n",
    "model.compile(optimizer=opt, loss='categorical_crossentropy', metrics=['accuracy'])\n",
    "\n",
    "def create_cnn(width, height, depth, filters=(16, 32, 64), regress=False):\n",
    "    # initialize the input shape and channel dimension, assuming\n",
    "    # TensorFlow/channels-last ordering\n",
    "    inputShape = (height, width, depth)\n",
    "    chanDim = -1\n",
    "    # define the model input\n",
    "    inputs = Input(shape=inputShape)\n",
    "    # loop over the number of filters\n",
    "#     for (i, f) in enumerate(filters):\n",
    "#         # if this is the first CONV layer then set the input\n",
    "#     # appropriately\n",
    "#         if i == 0:\n",
    "#             x = inputs\n",
    " \n",
    "#         # CONV => RELU => BN => POOL\n",
    "#         x = Conv2D(f, (3, 3), padding=\"same\")(x)\n",
    "#         x = Activation(\"relu\")(x)\n",
    "#         x = BatchNormalization(axis=chanDim)(x)\n",
    "#         x = MaxPooling2D(pool_size=(2, 2))(x)\n",
    "#             # flatten the volume, then FC => RELU => BN => DROPOUT\n",
    "#         x = Flatten()(x)\n",
    "#         x = Dense(16)(x)\n",
    "#         x = Activation(\"relu\")(x)\n",
    "#         x = BatchNormalization(axis=chanDim)(x)\n",
    "#         x = Dropout(0.5)(x)\n",
    "\n",
    "#         # apply another FC layer, this one to match the number of nodes\n",
    "#         # coming out of the MLP\n",
    "#         x = Dense(1)(x)\n",
    "#         x = Activation(\"relu\")(x)\n",
    "\n",
    "#         # check to see if the regression node should be added\n",
    "#         if regress:\n",
    "#             x = Dense(1, activation=\"linear\")(x)\n",
    "\n",
    "#         # construct the CNN\n",
    "#         model = Model(inputs, x)\n",
    "\n",
    "#         # return the CNN\n",
    "#         return model"
   ]
  },
  {
   "cell_type": "code",
   "execution_count": 288,
   "metadata": {},
   "outputs": [],
   "source": [
    "model = load_model(\"u_turn_1_14_gray_classification.h5\")"
   ]
  },
  {
   "cell_type": "code",
   "execution_count": null,
   "metadata": {},
   "outputs": [
    {
     "name": "stdout",
     "output_type": "stream",
     "text": [
      "Epoch 1/50\n",
      "2767/2767 [==============================] - 108s 39ms/step - loss: 1.0842 - accuracy: 0.7080\n",
      "Epoch 2/50\n",
      "2767/2767 [==============================] - 107s 39ms/step - loss: 0.5405 - accuracy: 0.7203\n",
      "Epoch 3/50\n",
      "2767/2767 [==============================] - 105s 38ms/step - loss: 0.5014 - accuracy: 0.7167\n",
      "Epoch 4/50\n",
      "2767/2767 [==============================] - 106s 38ms/step - loss: 0.4750 - accuracy: 0.7120\n",
      "Epoch 5/50\n",
      "2767/2767 [==============================] - 103s 37ms/step - loss: 0.4574 - accuracy: 0.7315\n",
      "Epoch 6/50\n",
      "2767/2767 [==============================] - 102s 37ms/step - loss: 0.4590 - accuracy: 0.7217\n",
      "Epoch 7/50\n",
      "2767/2767 [==============================] - 107s 39ms/step - loss: 0.4389 - accuracy: 0.7344\n",
      "Epoch 8/50\n",
      "2767/2767 [==============================] - 118s 43ms/step - loss: 0.4381 - accuracy: 0.7297\n",
      "Epoch 9/50\n",
      "2767/2767 [==============================] - 115s 42ms/step - loss: 0.4284 - accuracy: 0.7380\n",
      "Epoch 10/50\n",
      "2767/2767 [==============================] - 111s 40ms/step - loss: 0.4310 - accuracy: 0.7318\n",
      "Epoch 11/50\n",
      "2767/2767 [==============================] - 110s 40ms/step - loss: 0.4250 - accuracy: 0.7394\n",
      "Epoch 12/50\n",
      "2767/2767 [==============================] - 112s 41ms/step - loss: 0.4182 - accuracy: 0.7369\n",
      "Epoch 13/50\n",
      "2767/2767 [==============================] - 114s 41ms/step - loss: 0.4143 - accuracy: 0.7340\n",
      "Epoch 14/50\n",
      "2767/2767 [==============================] - 114s 41ms/step - loss: 0.4138 - accuracy: 0.7286\n",
      "Epoch 15/50\n",
      "2767/2767 [==============================] - 115s 41ms/step - loss: 0.4186 - accuracy: 0.7289\n",
      "Epoch 16/50\n",
      "2767/2767 [==============================] - 111s 40ms/step - loss: 0.4152 - accuracy: 0.7376\n",
      "Epoch 17/50\n",
      "2767/2767 [==============================] - 107s 39ms/step - loss: 0.4077 - accuracy: 0.7373\n",
      "Epoch 18/50\n",
      "2767/2767 [==============================] - 113s 41ms/step - loss: 0.4088 - accuracy: 0.7452\n",
      "Epoch 19/50\n",
      "2767/2767 [==============================] - 102s 37ms/step - loss: 0.4026 - accuracy: 0.7438\n",
      "Epoch 20/50\n",
      "2767/2767 [==============================] - 108s 39ms/step - loss: 0.4019 - accuracy: 0.7438\n",
      "Epoch 21/50\n",
      "2767/2767 [==============================] - 102s 37ms/step - loss: 0.3925 - accuracy: 0.7495\n",
      "Epoch 22/50\n",
      "2767/2767 [==============================] - 103s 37ms/step - loss: 0.4058 - accuracy: 0.7318\n",
      "Epoch 23/50\n",
      "2767/2767 [==============================] - 102s 37ms/step - loss: 0.4054 - accuracy: 0.7271\n",
      "Epoch 24/50\n",
      "2767/2767 [==============================] - 102s 37ms/step - loss: 0.4015 - accuracy: 0.7228\n",
      "Epoch 25/50\n",
      "2767/2767 [==============================] - 100s 36ms/step - loss: 0.3959 - accuracy: 0.7351\n",
      "Epoch 26/50\n",
      "2767/2767 [==============================] - 107s 39ms/step - loss: 0.3926 - accuracy: 0.7412\n",
      "Epoch 27/50\n",
      "2767/2767 [==============================] - 104s 38ms/step - loss: 0.3929 - accuracy: 0.7488\n",
      "Epoch 28/50\n",
      "2767/2767 [==============================] - 102s 37ms/step - loss: 0.3940 - accuracy: 0.7467\n",
      "Epoch 29/50\n",
      "2767/2767 [==============================] - 111s 40ms/step - loss: 0.3990 - accuracy: 0.7333\n",
      "Epoch 30/50\n",
      "2767/2767 [==============================] - 104s 38ms/step - loss: 0.3985 - accuracy: 0.7308\n",
      "Epoch 31/50\n",
      "2767/2767 [==============================] - 101s 37ms/step - loss: 0.3963 - accuracy: 0.7261\n",
      "Epoch 32/50\n",
      "2767/2767 [==============================] - 98s 36ms/step - loss: 0.3888 - accuracy: 0.7344\n",
      "Epoch 33/50\n",
      "2767/2767 [==============================] - 100s 36ms/step - loss: 0.3971 - accuracy: 0.7264\n",
      "Epoch 34/50\n",
      "2767/2767 [==============================] - 99s 36ms/step - loss: 0.3935 - accuracy: 0.7409\n",
      "Epoch 35/50\n",
      "2767/2767 [==============================] - 97s 35ms/step - loss: 0.3865 - accuracy: 0.7503\n",
      "Epoch 36/50\n",
      "2767/2767 [==============================] - 97s 35ms/step - loss: 0.3866 - accuracy: 0.7420\n",
      "Epoch 37/50\n",
      "2767/2767 [==============================] - 95s 34ms/step - loss: 0.3911 - accuracy: 0.7398\n",
      "Epoch 38/50\n",
      "2767/2767 [==============================] - 94s 34ms/step - loss: 0.3912 - accuracy: 0.7329\n",
      "Epoch 39/50\n",
      "2767/2767 [==============================] - 97s 35ms/step - loss: 0.3860 - accuracy: 0.7452\n",
      "Epoch 40/50\n",
      "1600/2767 [================>.............] - ETA: 40s - loss: 0.3774 - accuracy: 0.7450"
     ]
    }
   ],
   "source": [
    "train_X = np.array(train_X)\n",
    "history =  model.fit(train_X, train_Y, epochs=50, batch_size=32, shuffle=True)\n",
    "# history = model.fit_generator(generator=training_generator,\n",
    "#                     use_multiprocessing=True,\n",
    "#                     workers=1)"
   ]
  },
  {
   "cell_type": "code",
   "execution_count": 325,
   "metadata": {},
   "outputs": [],
   "source": [
    "#saving model\n",
    "model.save(\"u_turn_1_14_gray_classification_all.h5\")"
   ]
  },
  {
   "cell_type": "code",
   "execution_count": 275,
   "metadata": {},
   "outputs": [
    {
     "data": {
      "image/png": "[encoded data removed]",
      "text/plain": [
       "<Figure size 432x288 with 1 Axes>"
      ]
     },
     "metadata": {
      "needs_background": "light"
     },
     "output_type": "display_data"
    }
   ],
   "source": [
    "def PlotLearningCurve(epoch, trainingloss):\n",
    "    plt.plot(trainingloss)\n",
    "#     plt.plot(validationloss)\n",
    "    plt.xlabel('Epochs')\n",
    "    plt.legend(['Trainning Loss'])\n",
    "    plt.ylabel('Loss')\n",
    "    plt.show()\n",
    "PlotLearningCurve(None , history.history['loss'])"
   ]
  },
  {
   "cell_type": "code",
   "execution_count": 227,
   "metadata": {},
   "outputs": [
    {
     "name": "stdout",
     "output_type": "stream",
     "text": [
      "-0.000112560905\n"
     ]
    }
   ],
   "source": [
    "\n"
   ]
  },
  {
   "cell_type": "code",
   "execution_count": 326,
   "metadata": {},
   "outputs": [
    {
     "name": "stdout",
     "output_type": "stream",
     "text": [
      "(240, 200, 1)\n",
      "2\n"
     ]
    }
   ],
   "source": [
    "from keras.models import load_model\n",
    "tmp_model = load_model(\"u_turn_1_14_gray_classification_all.h5\")\n",
    "# print(tmp_model.layers[-1].get_weights())\n",
    "\n",
    "test_image = read_image(os.path.join(training_path, \"img_97_.jpg\"))\n",
    "print(test_image.shape)\n",
    "preds = tmp_model.predict(np.array([test_image]))[0]\n",
    "print(np.argmax(preds))"
   ]
  }
 ],
 "metadata": {
  "kernelspec": {
   "display_name": "opencv_lab",
   "language": "python",
   "name": "opencv_lab"
  },
  "language_info": {
   "codemirror_mode": {
    "name": "ipython",
    "version": 3
   },
   "file_extension": ".py",
   "mimetype": "text/x-python",
   "name": "python",
   "nbconvert_exporter": "python",
   "pygments_lexer": "ipython3",
   "version": "3.7.3"
  }
 },
 "nbformat": 4,
 "nbformat_minor": 2
}
